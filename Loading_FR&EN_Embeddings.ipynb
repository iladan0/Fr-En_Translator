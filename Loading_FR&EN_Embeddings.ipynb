{
 "cells": [
  {
   "cell_type": "markdown",
   "metadata": {
    "id": "fDbdzQ7tA1JT"
   },
   "source": [
    "# Downloading english and french embeddings\n"
   ]
  },
  {
   "cell_type": "code",
   "execution_count": null,
   "metadata": {
    "id": "jeD2bWWFCc4J"
   },
   "outputs": [],
   "source": [
    "!pip install fasttext"
   ]
  },
  {
   "cell_type": "code",
   "execution_count": null,
   "metadata": {
    "id": "BDB157s7CGRm"
   },
   "outputs": [],
   "source": [
    "import fasttext\n",
    "import fasttext.util\n",
    "import _pickle as pickle"
   ]
  },
  {
   "cell_type": "code",
   "execution_count": null,
   "metadata": {
    "id": "08YMcZY3BG_m"
   },
   "outputs": [],
   "source": [
    "#Downloading english and french models\n",
    "fasttext.util.download_model('fr', if_exists='ignore')  # French\n",
    "!cp cc.fr.300.bin /content/drive/MyDrive/data1/\n",
    "fasttext.util.download_model('en', if_exists='ignore')  # English\n",
    "!cp cc.en.300.bin /content/drive/MyDrive/data1/"
   ]
  },
  {
   "cell_type": "code",
   "execution_count": null,
   "metadata": {
    "id": "auFFtlcMRUtB"
   },
   "outputs": [],
   "source": [
    "#Downloading painrs (FR-EN) and (EN-FR)\n",
    "!wget https://dl.fbaipublicfiles.com/arrival/dictionaries/fr-en.txt\n",
    "!wget https://dl.fbaipublicfiles.com/arrival/dictionaries/en-fr.txt"
   ]
  },
  {
   "cell_type": "markdown",
   "metadata": {
    "id": "nJHiKX0mCXED"
   },
   "source": [
    "# Utils"
   ]
  },
  {
   "cell_type": "code",
   "execution_count": 1,
   "metadata": {
    "id": "HgRygxePTmZu"
   },
   "outputs": [],
   "source": [
    "def get_pairs(train):\n",
    "  pairs = [] \n",
    "  with open(train, \"r\") as fp:\n",
    "    for i in fp.readlines():\n",
    "      tmp = i.split()\n",
    "      pairs.append((tmp[0], tmp[1]))\n",
    "  return pairs\n",
    "\n",
    "\n",
    "def uniq_values(pairs,entery):\n",
    "  check_val = set()      #Check Flag\n",
    "  res = []\n",
    "  for i in pairs:\n",
    "    if i[entery] not in check_val:\n",
    "        res.append(i)\n",
    "        check_val.add(i[entery])\n",
    "  return check_val\n",
    "\n",
    "def create_dict(lang_words, lang_model):\n",
    "  temp_dict={}\n",
    "  for elem in lang_words:\n",
    "        if elem in lang_model.words:\n",
    "            try:\n",
    "                temp_dict[elem] =  lang_model[elem]           \n",
    "            except KeyError as e:\n",
    "                print(e)\n",
    "                continue\n",
    "        else:\n",
    "          print(elem)\n",
    "  return temp_dict"
   ]
  },
  {
   "cell_type": "markdown",
   "metadata": {
    "id": "sp86PwmoCrfS"
   },
   "source": [
    "# FR - > EN (embeddings)"
   ]
  },
  {
   "cell_type": "code",
   "execution_count": null,
   "metadata": {
    "id": "mbEHbmE4C_6d"
   },
   "outputs": [],
   "source": [
    "#loading FR model\n",
    "fr_vec_path = \"/content/drive/MyDrive/data1/cc.fr.300.bin\"\n",
    "fr_model = fasttext.load_model(fr_vec_path)"
   ]
  },
  {
   "cell_type": "code",
   "execution_count": 2,
   "metadata": {
    "id": "mgILjS9TSSZd"
   },
   "outputs": [],
   "source": [
    "#creating fr_dict containing embeddings of french words used in (FR-EN) train-test pairs\n",
    "full_pairs = get_pairs(\"/content/fr-en.txt\")\n",
    "uniq_fr =uniq_values(full_pairs,0)\n",
    "fr_dict = create_dict(uniq_fr, fr_model)\n",
    "# fr_dict length = 61934"
   ]
  },
  {
   "cell_type": "code",
   "execution_count": null,
   "metadata": {
    "id": "Tdww5bdASPM2"
   },
   "outputs": [],
   "source": [
    "#saving fr_dict in pickle format\n",
    "\n",
    "a_file = open(\"fr_dict.pkl\", \"wb\")\n",
    "pickle.dump(fr_dict, a_file)\n",
    "a_file.close()\n",
    "!cp fr_dict1.pkl /content/drive/MyDrive/data1/"
   ]
  },
  {
   "cell_type": "code",
   "execution_count": null,
   "metadata": {
    "id": "P2SneCWKDdjn"
   },
   "outputs": [],
   "source": [
    "#loading EN model\n",
    "en_vec_path = \"/content/drive/MyDrive/data1/cc.en.300.bin\"\n",
    "en_model = fasttext.load_model(en_vec_path)"
   ]
  },
  {
   "cell_type": "code",
   "execution_count": null,
   "metadata": {
    "id": "97y0_2q8De2c"
   },
   "outputs": [],
   "source": [
    "#creating en_dict containing embeddings of english words used in (FR-EN) train-test pairs\n",
    "uniq_en =uniq_values(full_pairs,1)\n",
    "en_dict = create_dict(uniq_en, en_model)\n",
    "# en_dict length = 63069"
   ]
  },
  {
   "cell_type": "code",
   "execution_count": null,
   "metadata": {
    "id": "1XATNo93D5j2"
   },
   "outputs": [],
   "source": [
    "#saving en_dict in pickle format\n",
    "\n",
    "a_file = open(\"en_dict.pkl\", \"wb\")\n",
    "pickle.dump(en_dict, a_file)\n",
    "a_file.close()\n",
    "!cp en_dict.pkl /content/drive/MyDrive/data1/"
   ]
  },
  {
   "cell_type": "markdown",
   "metadata": {
    "id": "viG25jp_Dx9l"
   },
   "source": [
    "# EN -> FR (embeddings)"
   ]
  },
  {
   "cell_type": "code",
   "execution_count": null,
   "metadata": {
    "id": "vofAAVPrDerL"
   },
   "outputs": [],
   "source": [
    "#creating en_dict1 containing embeddings of english words used in (EN-FR) train-test pairs\n",
    "full_pairs = get_pairs(\"/content/en-fr.txt\")\n",
    "uniq_en =uniq_values(full_pairs,0)\n",
    "en_dict1 = create_dict(uniq_en, en_model)\n",
    "# en_dict1 length = 63021"
   ]
  },
  {
   "cell_type": "code",
   "execution_count": null,
   "metadata": {
    "id": "SKSPXekwEONw"
   },
   "outputs": [],
   "source": [
    "#saving en_dict1 in pickle format\n",
    "\n",
    "a_file = open(\"en_dict1.pkl\", \"wb\")\n",
    "pickle.dump(en_dict1, a_file)\n",
    "a_file.close()\n",
    "!cp en_dict1.pkl /content/drive/MyDrive/data1/"
   ]
  },
  {
   "cell_type": "code",
   "execution_count": null,
   "metadata": {
    "id": "tEQZ-IYZEVVe"
   },
   "outputs": [],
   "source": [
    "#creating fr_dict1 containing embeddings of french words used in (EN-FR) train-test pairs\n",
    "\n",
    "uniq_fr =uniq_values(full_pairs,1)\n",
    "fr_dict1 = create_dict(uniq_fr, fr_model)\n",
    "#fr_dict1 length = 61947"
   ]
  },
  {
   "cell_type": "code",
   "execution_count": null,
   "metadata": {
    "id": "liNLkTamEWWw"
   },
   "outputs": [],
   "source": [
    "#saving fr_dict1 in pickle format\n",
    "\n",
    "a_file = open(\"fr_dict1.pkl\", \"wb\")\n",
    "pickle.dump(fr_dict1, a_file)\n",
    "a_file.close()\n",
    "!cp fr_dict1.pkl /content/drive/MyDrive/data1/"
   ]
  }
 ],
 "metadata": {
  "colab": {
   "name": "Loading_FR&EN_Embeddings.ipynb",
   "provenance": [],
   "toc_visible": true
  },
  "kernelspec": {
   "display_name": "Python 3 (ipykernel)",
   "language": "python",
   "name": "python3"
  },
  "language_info": {
   "codemirror_mode": {
    "name": "ipython",
    "version": 3
   },
   "file_extension": ".py",
   "mimetype": "text/x-python",
   "name": "python",
   "nbconvert_exporter": "python",
   "pygments_lexer": "ipython3",
   "version": "3.9.1"
  }
 },
 "nbformat": 4,
 "nbformat_minor": 1
}
